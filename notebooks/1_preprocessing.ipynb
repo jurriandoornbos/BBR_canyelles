{
 "cells": [
  {
   "attachments": {},
   "cell_type": "markdown",
   "id": "4e7b56b6-92ea-4904-93d9-d5b96ef7ce0f",
   "metadata": {},
   "source": [
    "# 10. data preprocessing to save time in application-level evaluations"
   ]
  },
  {
   "cell_type": "code",
   "execution_count": 1,
   "id": "3be6e05f-1345-48c1-9acd-dfac04b46ab1",
   "metadata": {},
   "outputs": [
    {
     "name": "stderr",
     "output_type": "stream",
     "text": [
      "c:\\users\\judoj\\documents\\programming\\uavgeo\\uavgeo\\compute\\products.py:8: TqdmExperimentalWarning: Using `tqdm.autonotebook.tqdm` in notebook mode. Use `tqdm.tqdm` instead to force console mode (e.g. in jupyter console)\n",
      "  from tqdm.autonotebook import tqdm\n"
     ]
    }
   ],
   "source": [
    "import uavgeo as ug\n",
    "import geopandas as gpd\n",
    "import numpy as np\n",
    "import xarray as xr\n",
    "import rioxarray as rxr\n",
    "import matplotlib.pyplot as plt\n",
    "import os\n",
    "import pandas as pd"
   ]
  },
  {
   "attachments": {},
   "cell_type": "markdown",
   "id": "1049243b-4a0a-461f-a689-838c4280e3bf",
   "metadata": {},
   "source": [
    "## 2. CAN2023 preprocessing"
   ]
  },
  {
   "cell_type": "code",
   "execution_count": 3,
   "id": "7ad5d7aa-9648-4e77-8bc3-17511591f296",
   "metadata": {},
   "outputs": [],
   "source": [
    "# load data can2023\n",
    "\n",
    "\n",
    "dsm = rxr.open_rasterio(\"../data/dsm.tif\",mode = \"r\", chunks=True).astype(np.float32)\n",
    "dsm = dsm.rio.write_nodata(dsm.rio.nodata, encoded=True)\n",
    "\n",
    "rgb = rxr.open_rasterio(\"../data/rgb_230609.tif\",mode = \"r\", chunks=True).astype(np.uint8)\n",
    "rgb = rgb.rio.write_nodata(rgb.rio.nodata, encoded=True)\n",
    "#and the mask\n",
    "mask = gpd.read_file(\"../data/vineyard_shape.geojson\")"
   ]
  },
  {
   "cell_type": "code",
   "execution_count": 4,
   "id": "1a262c05-7479-4938-8240-f21c3473b4ae",
   "metadata": {},
   "outputs": [],
   "source": [
    "rgb = rgb.rio.reproject(\"EPSG:32631\")\n",
    "dsm = dsm.rio.reproject(\"EPSG:32631\")"
   ]
  },
  {
   "cell_type": "code",
   "execution_count": 5,
   "id": "533b190b-19fe-4485-977c-d97dd54a85ea",
   "metadata": {},
   "outputs": [
    {
     "name": "stderr",
     "output_type": "stream",
     "text": [
      "C:\\Users\\judoj\\mambaforge\\envs\\ndvi\\Lib\\site-packages\\rioxarray\\raster_writer.py:130: UserWarning: The nodata value (3.402823466e+38) has been automatically changed to (3.4028234663852886e+38) to match the dtype of the data.\n",
      "  warnings.warn(\n"
     ]
    }
   ],
   "source": [
    "#cset nodata value\n",
    "dsm = dsm.rio.write_nodata(dsm.rio.nodata, encoded=True)\n",
    "rgb = rgb.rio.write_nodata(rgb.rio.nodata, encoded=True)"
   ]
  },
  {
   "cell_type": "code",
   "execution_count": null,
   "id": "6077212d-26f4-480f-863a-2d1d3cff716d",
   "metadata": {},
   "outputs": [],
   "source": [
    "# align to same pixel-grid\n",
    "#pixel-level alignment \n",
    "dsm = dsm.rio.reproject_match(rgb)"
   ]
  },
  {
   "cell_type": "code",
   "execution_count": null,
   "id": "f60b636e",
   "metadata": {},
   "outputs": [],
   "source": [
    "# Calculate products DEM and CHM from DSM:\n",
    "\n",
    "pixel_size = dsm.rio.resolution()[0]\n",
    "sampling_meters = 1\n",
    "\n",
    "#function will take a bit longer than the progress bar shows\n",
    "dem = ug.compute.calc_dem_from_dsm(dsm, pixel_size, sampling_meters)\n",
    "chm = dsm-dem"
   ]
  },
  {
   "cell_type": "code",
   "execution_count": null,
   "id": "2894e921",
   "metadata": {},
   "outputs": [],
   "source": [
    "# calculate it from the orthomosaic, or load it in here. \n",
    "ndvi = ug.compute.calc_ndvi(rgb, red_id = 1, nir_id= 2)\n",
    "\n",
    "# or load it:\n",
    "ndvi = rxr.open_rasterio(\"../data/ndvi.tif\")"
   ]
  },
  {
   "cell_type": "code",
   "execution_count": null,
   "id": "4e0275ad-f77c-474b-a3e3-b4d120b28f4d",
   "metadata": {},
   "outputs": [],
   "source": [
    "mask = mask.to_crs(\"EPSG:32631\")\n",
    "mask = mask.geometry"
   ]
  },
  {
   "cell_type": "code",
   "execution_count": null,
   "id": "2328217e-a865-4f54-8203-2beae51877d1",
   "metadata": {},
   "outputs": [],
   "source": [
    "#mask it out\n",
    "ndvi_ = ndvit.rio.clip(mask)\n",
    "\n",
    "#mask \n",
    "chm= chm.rio.clip(mask)\n",
    "dem = dem.rio.clip(mask)\n",
    "dsm = dsm.rio.clip(mask)\n",
    "\n",
    "rgb = rgb.rio.clip(mask)"
   ]
  },
  {
   "cell_type": "code",
   "execution_count": null,
   "id": "7df1fc19-a53a-4452-84d9-a615b30e11e7",
   "metadata": {},
   "outputs": [],
   "source": [
    "#cset nodata value again\n",
    "ndvi = ndvi.rio.write_nodata(ndvi.rio.nodata, encoded=True)\n",
    "dem = dem.rio.write_nodata(dem.rio.nodata, encoded=True)\n",
    "chm = chm.rio.write_nodata(chm.rio.nodata, encoded=True)\n",
    "dsm = dsm.rio.write_nodata(dsm.rio.nodata, encoded=True)\n",
    "rgb= rgb.rio.write_nodata(rgb.rio.nodata, encoded = True)"
   ]
  },
  {
   "cell_type": "code",
   "execution_count": null,
   "id": "f323ea9f-2606-4422-b84a-ad7a7a48dcaf",
   "metadata": {},
   "outputs": [],
   "source": [
    "#save it\n",
    "rgb.rio.to_raster(\"../data/canyelles/orthos/preprocessed/ndvi_test.tif\")\n",
    "ndvi.rio.to_raster(\"../data/preprocessed/ndvi.tif\")\n",
    "chm.rio.to_raster(\"../data/preprocessed/chm.tif\")\n",
    "dem.rio.to_raster(\"../data/preprocessed/dem.tif\")\n",
    "dsm.rio.to_raster(\"../data/preprocessed/dsm.tif\")\n"
   ]
  }
 ],
 "metadata": {
  "kernelspec": {
   "display_name": "Python 3 (ipykernel)",
   "language": "python",
   "name": "python3"
  },
  "language_info": {
   "codemirror_mode": {
    "name": "ipython",
    "version": 3
   },
   "file_extension": ".py",
   "mimetype": "text/x-python",
   "name": "python",
   "nbconvert_exporter": "python",
   "pygments_lexer": "ipython3",
   "version": "3.11.4"
  }
 },
 "nbformat": 4,
 "nbformat_minor": 5
}
